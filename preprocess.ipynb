{
 "cells": [
  {
   "cell_type": "code",
   "execution_count": 1,
   "id": "605aae6e",
   "metadata": {},
   "outputs": [],
   "source": [
    "%load_ext autoreload\n",
    "%autoreload 2"
   ]
  },
  {
   "cell_type": "code",
   "execution_count": 2,
   "id": "0edc4e5f",
   "metadata": {},
   "outputs": [
    {
     "name": "stdout",
     "output_type": "stream",
     "text": [
      "BBQ (v1.3.20) is up-to-date \n"
     ]
    },
    {
     "name": "stderr",
     "output_type": "stream",
     "text": [
      "WARNING:root:SGMA token will expire soon, make sure to refresh from here: https://digital.sgmarkets.com/analytics-token/\n"
     ]
    }
   ],
   "source": [
    "from bbq import BBQ\n",
    "import pandas as pd\n",
    "import numpy as np\n",
    "import plotly.express as px"
   ]
  },
  {
   "cell_type": "code",
   "execution_count": 3,
   "id": "193ee85d",
   "metadata": {},
   "outputs": [],
   "source": [
    "from bbq import BBQ"
   ]
  },
  {
   "cell_type": "code",
   "execution_count": 5,
   "id": "541bdead",
   "metadata": {},
   "outputs": [
    {
     "name": "stdout",
     "output_type": "stream",
     "text": [
      "macro0\n",
      "macro1\n",
      "macro2\n",
      "equity1\n",
      "equity2\n"
     ]
    }
   ],
   "source": [
    "from topgun.src.risk.factor_returns import bloomberg_factor_returns\n",
    "from topgun.src.risk.definition import riskmodel\n",
    "\n",
    "facts = pd.DataFrame()\n",
    "\n",
    "riskmodels_ = list(riskmodel.keys())\n",
    "for riskmodel_ in riskmodels_:\n",
    "    print(riskmodel_)\n",
    "    factor_returns = bloomberg_factor_returns(model=riskmodel[riskmodel_]).fillna(0)\n",
    "    factor_returns = factor_returns.melt(var_name=\"factor_name\", value_name=\"return_value\", ignore_index=False).reset_index(names=\"date\").assign(riskmodel_code=riskmodel_)\n",
    "    facts = pd.concat([facts, factor_returns], ignore_index=True)\n",
    "facts\n",
    "facts.to_parquet('data/factor_returns_all.parquet')\n"
   ]
  },
  {
   "cell_type": "code",
   "execution_count": 18,
   "id": "592b673b",
   "metadata": {},
   "outputs": [],
   "source": [
    "df = pd.read_parquet('graphs/data/data_pf_vs_sp 3.parquet')\n",
    "\n",
    "# fill benchmark_returns for with 0.001 * portfolio_return for components that contain \"OVL\", \"CCY\"\n",
    "df[\"benchmark_return\"] = np.where(df[\"component_id\"].str.contains(\"OVL|CCY\"), 0.001 * df[\"alt_portfolio_return\"], df[\"benchmark_return\"])\n",
    "df = df.drop(columns=[\"portfolio_return\"]).rename(columns={\"alt_portfolio_return\": \"portfolio_return\"})"
   ]
  },
  {
   "cell_type": "code",
   "execution_count": null,
   "id": "0e85de76",
   "metadata": {},
   "outputs": [
    {
     "name": "stdout",
     "output_type": "stream",
     "text": [
      "\n",
      "11SEP2025_09:34:16.337 5581:140255906903808 WARN apism_apisession.cpp:1329 Apisession.aliveCheck Alive Request Retries exhausted (2) on [localhost:8194 -> 127.0.0.1:40616] \n",
      "\n",
      "11SEP2025_09:34:16.356 5581:140255898511104 WARN blpapi_platformcontroller.cpp:488 blpapi.session.{1}.platformcontroller Connectivity lost, no connected endpoints. \n",
      "\n",
      "11SEP2025_09:34:19.343 5581:140255898511104 WARN blpapi_platformcontroller.cpp:455 blpapi.session.{1}.platformcontroller Connectivity restored. \n"
     ]
    }
   ],
   "source": [
    "# export the full period df\n",
    "df.to_parquet('data/portfolio_returns.parquet')\n",
    "\n",
    "# export the last three years\n",
    "df = df[df['date'] >= '2021-01-01']\n",
    "\n",
    "df.to_parquet('data/portfolio_returns_last_3_years.parquet')"
   ]
  }
 ],
 "metadata": {
  "kernelspec": {
   "display_name": "iceman",
   "language": "python",
   "name": "python3"
  },
  "language_info": {
   "codemirror_mode": {
    "name": "ipython",
    "version": 3
   },
   "file_extension": ".py",
   "mimetype": "text/x-python",
   "name": "python",
   "nbconvert_exporter": "python",
   "pygments_lexer": "ipython3",
   "version": "3.12.9"
  }
 },
 "nbformat": 4,
 "nbformat_minor": 5
}
